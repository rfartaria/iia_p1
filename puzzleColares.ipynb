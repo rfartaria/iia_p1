{
 "cells": [
  {
   "cell_type": "markdown",
   "metadata": {},
   "source": [
    "#  Puzzle dos Colares\n",
    "## Projeto nº 1\n",
    "### Introdução à Inteligência Artificial - edição 2020/21\n",
    "#### Entrega: 7 de Outubro (1m antes da meia-noite)\n",
    "\n",
    "<img src=\"inicialDoisColares.PNG\" alt=\"Drawing\" style=\"width: 250px;\"/>\n"
   ]
  },
  {
   "cell_type": "markdown",
   "metadata": {
    "colab_type": "text",
    "id": "LekFEsVbua_R"
   },
   "source": [
    "### O Puzzle dos 2 Colares\n",
    "Temos dois colares, ambos com 20 bolas cada e em que duas das bolas são partilhadas, i.e. existem 38 bolas no total (ver figura em cima). Existem duas cores com 10 bolas, (na figura, o verde e o roxo) e outras duas com 9 bolas (o azul e encarnado). Na figura em cima, as bolas partilhadas pelos dois colares são de cor verde. \n",
    "Dada uma configuração do puzzle, podemos rodar quaisquer dos dois colares uma bola no sentido horário ou no sentido anti-horário. Por exemplo, se aplicássemos ao colar da direita a rotação horária de uma bola, seriam de cor roxa as duas bolas partilhadas.\n",
    "\n",
    "Atinge-se o objectivo quando cada um dos colares tem concentradas e sem interrupções duas das cores, uma de 9 e outra de 10 bolas. A figura a seguir é um exemplo de uma solução final. O anel esquerdo concentra as bolas verdes e encarnadas em duas sequências sem interrupções e o anel direito concentra as duas restantes cores, o azul e roxo, também em sequências sem interrupções. Notem que em qualquer solução final haverá sempre em cada anel uma bola de uma terceira cor, que aparece isolada separando as duas sequências ininterruptas.\n",
    "\n",
    "<img src=\"finalDoisColares.PNG\" alt=\"Drawing\" style=\"width: 250px;\"/>"
   ]
  },
  {
   "cell_type": "markdown",
   "metadata": {},
   "source": [
    "### Objetivos\n",
    "Modelem este puzzle como um problema de procura num grafo, de acordo com o Paradigma do Espaço de Estados, usando a implementação disponibilizada pelo módulo ***searchPlus.py***.\n",
    "\n",
    "**Importante**\n",
    "\n",
    "1. Para facilitar a correcção, a classe do Problema que criarem tem de se chamar **PuzzleColares**, mas a construção da instância do problema é livre quanto ao tipo e número de argumentos usados.\n",
    "\n",
    "2. Ao construirem o estado inicial terão de verificar se é válido. Cada um dos colares tem de ter 20 bolas, há duas bolas que fazem parte de ambos os colares e há duas cores com 10 bolas cada e outras duas com 9 cada. Podem escolher as cores da figura e do enunciado ou outras;\n",
    "\n",
    "3. Notem que terão que implementar o método ***display()*** que permite visualizar de modo *pretty* (em modo de texto) o estado do puzzle, para evitar mostrar os estados através da visualização bruta das estruturas de dados.\n",
    " \n",
    "4. Tenham atenção que se um estado s for input do método ***result()*** ele deve permanecer exactamente igual, não sendo modificado pela execução do método. Deve ser gerado um estado completamente novo s' que é devolvido e não alterar o estado s de input do método!\n",
    "    \n",
    "4. É importante que dois estados exactamente com os mesmos valores nos seus atributos sejam considerados iguais mesmo que sejam objectos distintos!"
   ]
  },
  {
   "cell_type": "markdown",
   "metadata": {},
   "source": [
    "### Extras\n",
    "O puzzle dos colares pode ter mais do que 2 colares. Por exemplo, na figura seguinte temos um puzzle com 3 colares em que há 6 cores: duas com 10 bolas e as restantes quatro cores com 9, e em que há 4 bolas partilhadas. Os colares das pontas partilham ambos 2 bolas com o colar do meio, que assim partilha as 4 bolas. Na solução final, cada um dos colares das pontas concentra duas das cores em sequências ininterruptas de 10 e 9 bolas e o colar do meio concentra duas das cores em sequências ininterruptas de 9 bolas.\n",
    "\n",
    "Daremos um bónus de 0.25 valores aos alunos que modelarem o problema de modo a podermos ter puzzles com quaisquer número de colares.\n",
    "\n",
    "<img src=\"tresColares.PNG\" alt=\"Drawing\" style=\"width: 250px;\"/>\n"
   ]
  },
  {
   "cell_type": "markdown",
   "metadata": {},
   "source": [
    "### Teste dos programas\n",
    "Fazendo uso das funcionalidades do notebook que permite a coexistência de texto e código, convém demonstrarem que a construção das instâncias avisa sobre os vários casos de estados iniciais inválidos; que os métodos ***actions()***, ***result()***, ***path_cost()*** e ***goal_test()*** estão a funcionar bem, ilustrando com exemplos. Não se esqueçam de explicar o 'pretty display' se não for muito intuitivo, e demonstrem também que não modificam os estados que sofrem as acções e que a igualdade dos estados não depende destes serem objectos diferentes."
   ]
  },
  {
   "cell_type": "markdown",
   "metadata": {},
   "source": [
    "O método ***exec()***, definido a seguir, permite executar uma sequência de acções a partir de um estado qualquer, devolvendo o estado resultante e o custo acumulado num par *(estadoRes,custoTotal)*. Podem usá-lo para testarem a execução de uma sequência de diversas acções partindo de um estado particular.\n",
    "\n",
    "```python\n",
    "def exec(p,estado,accoes):\n",
    "    custo = 0\n",
    "    for a in accoes:\n",
    "        seg = p.result(estado,a)\n",
    "        custo = p.path_cost(custo,estado,a,seg)\n",
    "        estado = seg\n",
    "    return (estado,custo)\n",
    "```\n",
    "\n",
    " \n",
    "\n",
    "Para fazerem um teste mais forte, podem começar por gerar um puzzle solução e depois executam uma sequência de poucas acções, 5 ou 6. A seguir, podem gerar um problema com a configuração que resultou dessa sequência como estado inicial. Finalmente, podem executar, por exemplo, o algoritmo de procura em largura em árvore, para verificar se encontra a solução, que é exactamente a sequência de acções espelho das usadas para gerar o estado inicial a partir do final. Se o algoritmo de procura encontrar a solução é sinal que a modelação está correcta!"
   ]
  },
  {
   "cell_type": "markdown",
   "metadata": {},
   "source": [
    "### Entrega"
   ]
  },
  {
   "cell_type": "markdown",
   "metadata": {},
   "source": [
    "#### Código e Relatório\n",
    "O  relatório é **obrigatório** e também o formato do ficheiro de submissão: o código e o relatório têm de ser entregues conjuntamente num único ficheiro Jupyter Notebook. Qualquer trabalho que não tenha relatório (só o código) ou que não cumpra esse formato não é avaliado e tem 0 de nota.\n",
    "\n",
    "No notebook podem explicar a modelação em python para os estados e acções, ilustrar e correr o código e apresentar os testes que fizeram. \n",
    "\n",
    "Nós fornecemos um ficheiro esqueleto, ***IIA2021-proj1-XX.ipynb***, (substituam XX pelo número do grupo). Não se esqueçam de preencher os nomes e números dos elementos do vosso grupo."
   ]
  },
  {
   "cell_type": "markdown",
   "metadata": {},
   "source": [
    "#### Código a não ser alterado\n",
    "**Não alterem** nem o ***utils.py*** nem o ***searchPlus.py*** e **não os devem submeter!** Iremos correr os mesmos 2 ficheiros para todos."
   ]
  },
  {
   "cell_type": "markdown",
   "metadata": {},
   "source": [
    "#### Prazo\n",
    "Um único ficheiro ***IIA2021-proj1-XX.ipynb*** até ao dia **7 de Outubro** às 23:59"
   ]
  }
 ],
 "metadata": {
  "colab": {
   "collapsed_sections": [],
   "name": "Untitled0.ipynb",
   "provenance": [],
   "version": "0.3.2"
  },
  "kernelspec": {
   "display_name": "Python 3",
   "language": "python",
   "name": "python3"
  },
  "language_info": {
   "codemirror_mode": {
    "name": "ipython",
    "version": 3
   },
   "file_extension": ".py",
   "mimetype": "text/x-python",
   "name": "python",
   "nbconvert_exporter": "python",
   "pygments_lexer": "ipython3",
   "version": "3.7.0"
  }
 },
 "nbformat": 4,
 "nbformat_minor": 2
}
