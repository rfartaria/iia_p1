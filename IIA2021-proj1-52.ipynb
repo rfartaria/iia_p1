{
 "cells": [
  {
   "cell_type": "markdown",
   "metadata": {
    "colab_type": "text",
    "id": "LekFEsVbua_R"
   },
   "source": [
    "#  Puzzle dos Colares\n",
    "## Projeto nº 1\n",
    "### Introdução à Inteligência Artificial edição 2020/21\n",
    "\n",
    "\n",
    "\n",
    "<img src=\"finalDoisColares.PNG\" alt=\"Drawing\" style=\"width: 250px;\"/>\n",
    "\n",
    "## Grupo: XX\n",
    "\n",
    "### Elementos do Grupo\n",
    "\n",
    "Nome:\n",
    "\n",
    "Número:\n",
    "\n",
    "Nome:\n",
    "\n",
    "Número\n",
    "\n",
    "Nome:\n",
    "\n",
    "Número"
   ]
  },
  {
   "cell_type": "markdown",
   "metadata": {},
   "source": [
    "### Modelização em Python\n",
    "(descrição)"
   ]
  },
  {
   "cell_type": "code",
   "execution_count": 4,
   "metadata": {},
   "outputs": [],
   "source": [
    "from searchPlus import *\n",
    "\n",
    "class PuzzleColares(Problem):\n",
    "    \"\"\"Engarrafamento\"\"\"\n",
    "\n",
    "\n",
    "    def __init__(self, initial=None, goal=None):\n",
    "        \"\"\"Construtor: alterem os parâmetros a vosso gosto\"\"\"\n",
    "        #raise NotImplementedError\n",
    "    \n",
    "    def result(self, state, action): \n",
    "        \"\"\"Do not forget the result\"\"\"\n",
    "        raise NotImplementedError\n",
    "            \n",
    "    def actions(self, state):\n",
    "        \"\"\" The actions please\"\"\"\n",
    "        raise NotImplementedError\n",
    "    \n",
    "    def goal_test(self,state):\n",
    "        \"\"\" Goal test please\"\"\"\n",
    "        raise NotImplementedError\n",
    "        \n",
    "    def path_cost(self, cost,state,action,new_state):\n",
    "        \"\"\" compute the cost of a transition\"\"\"\n",
    "        raise NotImplementedError\n",
    "    \n",
    "    def display(self, state):\n",
    "        \"\"\" print the state please\"\"\"\n",
    "        raise NotImplementedError\n",
    "\n",
    "    \n",
    "        \n",
    "def exec(p,estado,accoes):\n",
    "    \"\"\" Executa uma sequência de acções a partir do estado\n",
    "        devolve um par (estado, custo) depois de imprimir\n",
    "    \"\"\"\n",
    "    custo = 0\n",
    "    for a in accoes:\n",
    "        seg = p.result(estado,a)\n",
    "        custo = p.path_cost(custo,estado,a,seg)\n",
    "        estado = seg\n",
    "    return (estado,custo)"
   ]
  },
  {
   "cell_type": "markdown",
   "metadata": {},
   "source": [
    "### Criação de estados e do problema\n",
    "(Mostrem que o código está a funcionar, construindo instâncias da classe **PuzzleColares**, fazendo o display dos estados, verificando o teste de estado final, gerando as acções para alguns estados, executando acções a partir de alguns estados e gerando novos estados e mostrando a evolução dos custos; verificando que os estados não se modificam com as acções (são gerados novos estados) e que a igualdade e a comparação entre estados funciona. Mostrem que a execução de sequências de acções está a funcionar bem.)"
   ]
  },
  {
   "cell_type": "markdown",
   "metadata": {},
   "source": [
    "### Teste de Procura de Solução\n",
    "(Quem quiser ir mais além, até pode confirmar que o problema está bem modelizado utilizando alguns dos algoritmos de procura como o **depth-first-search()** ou o **breadth-first-search()**, nas suas versões em árvore ou em grafo; Para isso poderão pegar num estado final, aplicar-lhe uma sequência de algumas acções (desde que não se tenha de esperar demasiado pela solução) e a partir do estado resultante criar um problema que será objecto do algoritmo de procura. Se encontrar uma solução, a solução espelho da sequência usada, então tudo estará ok)"
   ]
  }
 ],
 "metadata": {
  "colab": {
   "collapsed_sections": [],
   "name": "Untitled0.ipynb",
   "provenance": [],
   "version": "0.3.2"
  },
  "kernelspec": {
   "display_name": "Python 3",
   "language": "python",
   "name": "python3"
  },
  "language_info": {
   "codemirror_mode": {
    "name": "ipython",
    "version": 3
   },
   "file_extension": ".py",
   "mimetype": "text/x-python",
   "name": "python",
   "nbconvert_exporter": "python",
   "pygments_lexer": "ipython3",
   "version": "3.7.6"
  }
 },
 "nbformat": 4,
 "nbformat_minor": 2
}
